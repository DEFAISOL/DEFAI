{
 "cells": [
  {
   "cell_type": "code",
   "execution_count": 94,
   "id": "62ba08cb-d3b3-477b-a0d6-2ba156085ba4",
   "metadata": {},
   "outputs": [],
   "source": [
    "import pandas as pd\n",
    "\n",
    "from watcher import Watcher, Chain\n",
    "from constants import FUCK_ADDRESS\n",
    "\n",
    "watcher = Watcher(chain=Chain.SOL)"
   ]
  },
  {
   "cell_type": "code",
   "execution_count": 96,
   "id": "fb54ddc5",
   "metadata": {},
   "outputs": [],
   "source": [
    "watcher = Watcher(chain=Chain.SOL)\n",
    "tokens_invested_response = watcher.grab_tokens_invested(FUCK_ADDRESS)\n",
    "df = pd.DataFrame(tokens_invested_response.data[\"holdings\"])"
   ]
  },
  {
   "cell_type": "code",
   "execution_count": 3,
   "id": "5b7347f4",
   "metadata": {},
   "outputs": [
    {
     "data": {
      "text/plain": [
       "0      1718132509\n",
       "1      1718131898\n",
       "2      1718131538\n",
       "3      1718131445\n",
       "4      1718130460\n",
       "          ...    \n",
       "638    1717168262\n",
       "639    1717167983\n",
       "640    1717165266\n",
       "641    1717159359\n",
       "642    1717092654\n",
       "Name: last_active_timestamp, Length: 643, dtype: int64"
      ]
     },
     "execution_count": 3,
     "metadata": {},
     "output_type": "execute_result"
    }
   ],
   "source": [
    "import pandas as pd\n",
    "\n",
    "df = pd.read_csv(\"./tokens_invested_all.csv\")\n",
    "df['last_active_timestamp']"
   ]
  },
  {
   "cell_type": "code",
   "execution_count": 97,
   "id": "b361dad1",
   "metadata": {},
   "outputs": [
    {
     "data": {
      "text/plain": [
       "Index(['address', 'token_address', 'symbol', 'name', 'decimals', 'logo',\n",
       "       'balance', 'usd_value', 'realized_profit_30d', 'realized_profit',\n",
       "       'realized_pnl', 'realized_pnl_30d', 'unrealized_profit',\n",
       "       'unrealized_pnl', 'total_profit', 'total_profit_pnl', 'avg_cost',\n",
       "       'avg_sold', 'buy_30d', 'sell_30d', 'sells', 'price', 'cost',\n",
       "       'position_percent', 'last_active_timestamp', 'history_sold_income',\n",
       "       'history_bought_cost', 'price_change_5m', 'price_change_1h',\n",
       "       'price_change_6h', 'price_change_24h', 'is_following', 'is_show_alert',\n",
       "       'is_honeypot'],\n",
       "      dtype='object')"
      ]
     },
     "execution_count": 97,
     "metadata": {},
     "output_type": "execute_result"
    }
   ],
   "source": [
    "df.columns"
   ]
  },
  {
   "cell_type": "code",
   "execution_count": 98,
   "id": "3283f3c6",
   "metadata": {},
   "outputs": [
    {
     "data": {
      "text/html": [
       "<div>\n",
       "<style scoped>\n",
       "    .dataframe tbody tr th:only-of-type {\n",
       "        vertical-align: middle;\n",
       "    }\n",
       "\n",
       "    .dataframe tbody tr th {\n",
       "        vertical-align: top;\n",
       "    }\n",
       "\n",
       "    .dataframe thead th {\n",
       "        text-align: right;\n",
       "    }\n",
       "</style>\n",
       "<table border=\"1\" class=\"dataframe\">\n",
       "  <thead>\n",
       "    <tr style=\"text-align: right;\">\n",
       "      <th></th>\n",
       "      <th>token_address</th>\n",
       "      <th>symbol</th>\n",
       "      <th>name</th>\n",
       "      <th>realized_profit</th>\n",
       "      <th>cost</th>\n",
       "      <th>history_bought_cost</th>\n",
       "      <th>history_sold_income</th>\n",
       "      <th>total_profit_pnl</th>\n",
       "    </tr>\n",
       "  </thead>\n",
       "  <tbody>\n",
       "    <tr>\n",
       "      <th>0</th>\n",
       "      <td>52ScRbUR7y8AVqkMjE29FJVjDPELSPofJwaXaLHepump</td>\n",
       "      <td>TROLL</td>\n",
       "      <td>Troll by Matt Furie</td>\n",
       "      <td>-3.275838</td>\n",
       "      <td>0.743575</td>\n",
       "      <td>7.43575</td>\n",
       "      <td>3.416337</td>\n",
       "      <td>-0.534728</td>\n",
       "    </tr>\n",
       "    <tr>\n",
       "      <th>1</th>\n",
       "      <td>8CUbzzN5Q9Tnww8ciDTdcCPXVmi8mymAApot9Hyspump</td>\n",
       "      <td>gloop</td>\n",
       "      <td>Gloop By Matt Furie</td>\n",
       "      <td>-3.778678</td>\n",
       "      <td>0.743175</td>\n",
       "      <td>7.43175</td>\n",
       "      <td>2.909897</td>\n",
       "      <td>-0.602920</td>\n",
       "    </tr>\n",
       "    <tr>\n",
       "      <th>2</th>\n",
       "      <td>Fabws3AB7BAowYDywX8Gnb8QBF13TSpSpv3FHUS6pump</td>\n",
       "      <td>SHADES</td>\n",
       "      <td>SHADECREEPER BY MATT FURIE</td>\n",
       "      <td>-3.398939</td>\n",
       "      <td>0.742525</td>\n",
       "      <td>7.42525</td>\n",
       "      <td>3.283786</td>\n",
       "      <td>-0.553187</td>\n",
       "    </tr>\n",
       "    <tr>\n",
       "      <th>3</th>\n",
       "      <td>FLJy5tBAxHnzAC3bodjRAtSxoEGmwniqbgQ9LE7Ppump</td>\n",
       "      <td>BILZ</td>\n",
       "      <td>Dan Bilzerian</td>\n",
       "      <td>-4.386256</td>\n",
       "      <td>0.743525</td>\n",
       "      <td>7.43525</td>\n",
       "      <td>2.305469</td>\n",
       "      <td>-0.686733</td>\n",
       "    </tr>\n",
       "    <tr>\n",
       "      <th>4</th>\n",
       "      <td>84mypPSjeNtXGRe38xJoMrfEfehvu7X8rBSEoDLRbUb1</td>\n",
       "      <td>PEPEZO</td>\n",
       "      <td>ZOGGED PEPE BY MATT FURIE</td>\n",
       "      <td>-5.585620</td>\n",
       "      <td>0.738575</td>\n",
       "      <td>7.38575</td>\n",
       "      <td>1.061555</td>\n",
       "      <td>-0.852389</td>\n",
       "    </tr>\n",
       "  </tbody>\n",
       "</table>\n",
       "</div>"
      ],
      "text/plain": [
       "                                  token_address  symbol  \\\n",
       "0  52ScRbUR7y8AVqkMjE29FJVjDPELSPofJwaXaLHepump   TROLL   \n",
       "1  8CUbzzN5Q9Tnww8ciDTdcCPXVmi8mymAApot9Hyspump   gloop   \n",
       "2  Fabws3AB7BAowYDywX8Gnb8QBF13TSpSpv3FHUS6pump  SHADES   \n",
       "3  FLJy5tBAxHnzAC3bodjRAtSxoEGmwniqbgQ9LE7Ppump    BILZ   \n",
       "4  84mypPSjeNtXGRe38xJoMrfEfehvu7X8rBSEoDLRbUb1  PEPEZO   \n",
       "\n",
       "                         name  realized_profit      cost  history_bought_cost  \\\n",
       "0         Troll by Matt Furie        -3.275838  0.743575              7.43575   \n",
       "1         Gloop By Matt Furie        -3.778678  0.743175              7.43175   \n",
       "2  SHADECREEPER BY MATT FURIE        -3.398939  0.742525              7.42525   \n",
       "3               Dan Bilzerian        -4.386256  0.743525              7.43525   \n",
       "4   ZOGGED PEPE BY MATT FURIE        -5.585620  0.738575              7.38575   \n",
       "\n",
       "   history_sold_income  total_profit_pnl  \n",
       "0             3.416337         -0.534728  \n",
       "1             2.909897         -0.602920  \n",
       "2             3.283786         -0.553187  \n",
       "3             2.305469         -0.686733  \n",
       "4             1.061555         -0.852389  "
      ]
     },
     "execution_count": 98,
     "metadata": {},
     "output_type": "execute_result"
    }
   ],
   "source": [
    "df[[\n",
    "    \"token_address\",\n",
    "    \"symbol\",\n",
    "    \"name\",\n",
    "    \"realized_profit\",\n",
    "    \"cost\",\n",
    "    \"history_bought_cost\",\n",
    "    \"history_sold_income\",\n",
    "    \"total_profit_pnl\"\n",
    "]].head()"
   ]
  },
  {
   "cell_type": "markdown",
   "id": "89c5ab33",
   "metadata": {},
   "source": [
    "# Available Data\n",
    "\n",
    "* the socials can be obtained from https://gmgn.ai/defi/quotation/v1/tokens/sol/EYVy8k2a3hw31NTRdQSfKke53KyQfEehRbUVA8SFpump \n",
    "* the general info stuff like burn ratios etc can also be found there, in case one were to use it for non-pump funs\n",
    "* this way the rust bit is just for execution and the crucial information \n",
    "    * about mint authority\n",
    "    * freeze authority \n",
    "    * liquidity pooled is still available\n",
    "* it also contains a key of creator address, the previous rugs if there were any and the creator balance for the token\n",
    "\n",
    "* it is possible to grab holders from that endpoint but that won't be backwards\n",
    "  compatible since it is for real-time the moment of requesting, otherwise this\n",
    "  information could be used during collection of the dataset\n",
    "\n",
    "* https://gmgn.ai/defi/quotation/v1/tokens/top_buyers/sol/EYVy8k2a3hw31NTRdQSfKke53KyQfEehRbUVA8SFpump\n",
    "  => top buyers could be useful if given wallets drive pumps, could be an\n",
    "  important feature\n",
    "\n",
    "* all of the new pump listings can be found here:\n",
    "  https://gmgn.ai/defi/quotation/v1/pairs/sol/new_pairs?limit=50&orderby=open_timestamp&direction=desc&isPump=true&filters[]=not_honeypot&filters[]=pump\n",
    "* interesting idea would be to grab the ones from the last hour and generally\n",
    "  look for 30-50 candles when training the model\n",
    "\n",
    "* then the **socials + top holders + creator information** could be analyzed at the time of snapshot\n",
    "* the https://gmgn.ai/defi/quotation/v1/tokens/tag_wallet_count/sol/EYVy8k2a3hw31NTRdQSfKke53KyQfEehRbUVA8SFpump\n",
    "  information also might be useful\n",
    "\n",
    "* the wss://ws.gmgn.ai/stream?_t=true&tk=API_KEY (seems like) is a nice way of\n",
    "  listening on new trades for a given pair there is information around realized\n",
    "  profits, could be useful"
   ]
  },
  {
   "cell_type": "code",
   "execution_count": 22,
   "id": "48196f72",
   "metadata": {},
   "outputs": [
    {
     "name": "stdout",
     "output_type": "stream",
     "text": [
      "https://gmgn.ai/defi/quotation/v1/tokens/kline/sol/ukHH6c7mMyiWCf1b9pnWe25TSpkDDt3H5pQZgZ74J82\n"
     ]
    }
   ],
   "source": [
    "import time\n",
    "from constants import BOME\n",
    "\n",
    "candles = watcher.get_candles(\n",
    "    BOME, 0, time.time(), \"4h\"\n",
    ")"
   ]
  },
  {
   "cell_type": "code",
   "execution_count": 24,
   "id": "d7ebdfbb",
   "metadata": {},
   "outputs": [
    {
     "data": {
      "text/plain": [
       "16.666666666666668"
      ]
     },
     "execution_count": 24,
     "metadata": {},
     "output_type": "execute_result"
    }
   ],
   "source": [
    "# the above endpoint returns up to 1k candles\n",
    "# this is good, as there is no simple way of finding the creation date without\n",
    "# sending another request\n",
    "\n",
    "# this enables to just send a request for any token that has been around for less than 16 hours\n",
    "# keep the data for first say 12 hours and store that\n",
    "# different intervals can be used\n",
    "1000 / 60\n",
    "\n",
    "# there could be the live stuff used (things described above)"
   ]
  },
  {
   "cell_type": "code",
   "execution_count": 23,
   "id": "ef077464",
   "metadata": {},
   "outputs": [
    {
     "data": {
      "text/plain": [
       "569"
      ]
     },
     "execution_count": 23,
     "metadata": {},
     "output_type": "execute_result"
    }
   ],
   "source": [
    "len(candles.data)"
   ]
  },
  {
   "cell_type": "code",
   "execution_count": 78,
   "id": "7eb9fd97",
   "metadata": {},
   "outputs": [],
   "source": [
    "from watcher import Candle"
   ]
  },
  {
   "cell_type": "code",
   "execution_count": 92,
   "id": "0bf01293",
   "metadata": {},
   "outputs": [
    {
     "name": "stdout",
     "output_type": "stream",
     "text": [
      "https://gmgn.ai/defi/quotation/v1/tokens/kline/sol/GmaPKZisgQtH1ZXx5Xx6mQD6hKHZZUKdwR9SrBdrpump\n",
      "3\n"
     ]
    },
    {
     "data": {
      "application/vnd.plotly.v1+json": {
       "config": {
        "plotlyServerURL": "https://plot.ly"
       },
       "data": [
        {
         "close": [
          0.0000118707305187385,
          0.000014464847902197,
          0.000016018009167672,
          0.0000173194150377945,
          0.0000197425924352625,
          0.000018445568162637,
          0.000016370789312228,
          0.0000185828180062965,
          0.000016786995806033,
          0.000018266851211726,
          0.00001818906235674,
          0.000016030679105122,
          0.0000284673736638025,
          0.000028982782936152,
          0.000024025317711555,
          0.000031415345151625,
          0.00002797002492921,
          0.0000334132019027525,
          0.0000281859709698835,
          0.000041358851244079,
          0.000037809157042317,
          0.00004402877335617873,
          0.00004565935917805,
          0.0000567802989813045,
          0.0000567802989813045,
          0.0000505145077847525,
          0.00006655998079493,
          0.000037977576829518,
          0.000033591545016744,
          0.000034768878469856,
          0.000048976931342085,
          0.0000358116465780585,
          0.0000224033644692165,
          0.0000189996099786954,
          0.0000147670512296205,
          0.0000129567014309,
          0.000011220468009651,
          0.000009875743866183,
          0.00001203944143067281,
          0.000013182286370049,
          0.0000128102280560905,
          0.000016352031480466,
          0.0000164624003572455,
          0.00001636407203081,
          0.000017613869494032,
          0.000018137955346778,
          0.000014895484003256,
          0.0000155112018230455,
          0.00001509771647274,
          0.00001618236404759199,
          0.00001756728491980078,
          0.000017175854467144,
          0.00001482845468971516,
          0.000014805506107833,
          0.0000115329241558465,
          0.000011132448340728,
          0.000012193404557775,
          0.000010066155536115,
          0.0000105407944473075,
          0.000009947985943674,
          0.000009688760386167,
          0.000009094322722325,
          0.0000092016907042995,
          0.0000096922530492525,
          0.0000095895012609,
          0.000009762023212118,
          0.0000098636220373095,
          0.000009449050678429,
          0.0000076609069009125,
          0.000006795071227269,
          0.00000554501589414569,
          0.0000053329116530625
         ],
         "high": [
          0.0000118707305187385,
          0.00001518681085850285,
          0.000016018009167672,
          0.000017824099892767,
          0.0000197425924352625,
          0.000020368625417172,
          0.00001938400006566435,
          0.00001964050672924208,
          0.00001906986639911136,
          0.000018284158728862,
          0.000018291091261198,
          0.00001818906235674,
          0.0000303699014704605,
          0.0000369955929737625,
          0.0000303161130164124,
          0.000031415345151625,
          0.0000349315177858025,
          0.000033804990108043,
          0.0000335641768939425,
          0.0000415768960290085,
          0.000041358851244079,
          0.000045720177327515,
          0.0000524758324845125,
          0.0000567802989813045,
          0.0000567802989813045,
          0.0000616545363556785,
          0.00006699373105722,
          0.0000698192620948475,
          0.0000441712593117945,
          0.00003890661402426,
          0.000049946912023827,
          0.000048976931342085,
          0.00003797939041275,
          0.000032310547103835,
          0.0000249129635557425,
          0.0000151240525553805,
          0.0000129567014309,
          0.000011220468009651,
          0.00001203944143067281,
          0.0000139166843500845,
          0.0000134943156104225,
          0.000016352031480466,
          0.0000164624003572455,
          0.0000164624003572455,
          0.000017613869494032,
          0.000018137955346778,
          0.000018137955346778,
          0.0000155112018230455,
          0.000015547572585612,
          0.00001618236404759199,
          0.00001756728491980078,
          0.00001756728491980078,
          0.0000173578961765325,
          0.0000149066893552851,
          0.000015408712558854,
          0.0000115329241558465,
          0.000012193404557775,
          0.000012193404557775,
          0.000010619333731275,
          0.0000105407944473075,
          0.000009947985943674,
          0.000009688760386167,
          0.0000092016907042995,
          0.0000096922530492525,
          0.0000096922530492525,
          0.000009762023212118,
          0.0000098636220373095,
          0.0000098636220373095,
          0.000009449050678429,
          0.0000076609069009125,
          0.000006795071227269,
          0.00000554501589414569
         ],
         "low": [
          0.000004222115571024,
          0.0000115669841430145,
          0.00001283064902112544,
          0.0000160073416497875,
          0.0000160368631553195,
          0.000018445568162637,
          0.000016370789312228,
          0.000015949920914592,
          0.0000156949040347825,
          0.000016786995806033,
          0.000018136230759381,
          0.000013672125284988,
          0.000016030679105122,
          0.0000270380900005065,
          0.0000240174096421575,
          0.000024025317711555,
          0.00002797002492921,
          0.00002575610492364,
          0.0000275274717155325,
          0.0000281859709698835,
          0.000034830277359699,
          0.000037670920665384,
          0.00004265890493800161,
          0.000045252897196175,
          0.0000567802989813045,
          0.00004841431768116,
          0.000044296360807617,
          0.000034251558823845,
          0.00003078686331312,
          0.0000288099129933465,
          0.00003459284710154,
          0.0000358116465780585,
          0.000021908410043238,
          0.00001881013847816904,
          0.000012774043634958,
          0.000011796948930086,
          0.000010735823496037,
          0.000009875743866183,
          0.000009232956487512,
          0.000011127190450431,
          0.0000122767824348936,
          0.0000128102280560905,
          0.00001581110208920016,
          0.000015998266820406,
          0.00001636407203081,
          0.000017613869494032,
          0.000014864808221494,
          0.0000147718555977035,
          0.00001509771647274,
          0.00001508826822108214,
          0.00001618236404759199,
          0.0000171113372668665,
          0.00001482845468971516,
          0.0000147456511241157,
          0.0000115329241558465,
          0.0000107124229680075,
          0.000011132448340728,
          0.000010066155536115,
          0.0000099593969518508,
          0.000009947985943674,
          0.000009688760386167,
          0.000009094322722325,
          0.000008893364484753,
          0.0000092016907042995,
          0.0000095895012609,
          0.000009571374387415,
          0.000009762023212118,
          0.000009449050678429,
          0.0000076609069009125,
          0.000006795071227269,
          0.00000554501589414569,
          0.0000053329116530625
         ],
         "open": [
          0.000004222115571024,
          0.0000118707305187385,
          0.000014464847902197,
          0.000016018009167672,
          0.0000173194150377945,
          0.0000197425924352625,
          0.000018445568162637,
          0.000016370789312228,
          0.0000185828180062965,
          0.000016786995806033,
          0.000018266851211726,
          0.00001818906235674,
          0.000016030679105122,
          0.0000284673736638025,
          0.000028982782936152,
          0.000024025317711555,
          0.000031415345151625,
          0.00002797002492921,
          0.0000334132019027525,
          0.0000281859709698835,
          0.000041358851244079,
          0.000037809157042317,
          0.00004402877335617873,
          0.00004565935917805,
          0.0000567802989813045,
          0.0000567802989813045,
          0.0000505145077847525,
          0.00006655998079493,
          0.000037977576829518,
          0.000033591545016744,
          0.000034768878469856,
          0.000048976931342085,
          0.0000358116465780585,
          0.0000224033644692165,
          0.0000189996099786954,
          0.0000147670512296205,
          0.0000129567014309,
          0.000011220468009651,
          0.000009875743866183,
          0.00001203944143067281,
          0.000013182286370049,
          0.0000128102280560905,
          0.000016352031480466,
          0.0000164624003572455,
          0.00001636407203081,
          0.000017613869494032,
          0.000018137955346778,
          0.000014895484003256,
          0.0000155112018230455,
          0.00001509771647274,
          0.00001618236404759199,
          0.00001756728491980078,
          0.000017175854467144,
          0.00001482845468971516,
          0.000014805506107833,
          0.0000115329241558465,
          0.000011132448340728,
          0.000012193404557775,
          0.000010066155536115,
          0.0000105407944473075,
          0.000009947985943674,
          0.000009688760386167,
          0.000009094322722325,
          0.0000092016907042995,
          0.0000096922530492525,
          0.0000095895012609,
          0.000009762023212118,
          0.0000098636220373095,
          0.000009449050678429,
          0.0000076609069009125,
          0.000006795071227269,
          0.00000554501589414569
         ],
         "type": "candlestick",
         "x": [
          0,
          1,
          2,
          3,
          4,
          5,
          6,
          7,
          8,
          9,
          10,
          11,
          12,
          13,
          14,
          15,
          16,
          17,
          18,
          19,
          20,
          21,
          22,
          23,
          24,
          25,
          26,
          27,
          28,
          29,
          30,
          31,
          32,
          33,
          34,
          35,
          36,
          37,
          38,
          39,
          40,
          41,
          42,
          43,
          44,
          45,
          46,
          47,
          48,
          49,
          50,
          51,
          52,
          53,
          54,
          55,
          56,
          57,
          58,
          59,
          60,
          61,
          62,
          63,
          64,
          65,
          66,
          67,
          68,
          69,
          70,
          71
         ],
         "xaxis": "x",
         "yaxis": "y"
        },
        {
         "showlegend": false,
         "type": "bar",
         "x": [
          0,
          1,
          2,
          3,
          4,
          5,
          6,
          7,
          8,
          9,
          10,
          11,
          12,
          13,
          14,
          15,
          16,
          17,
          18,
          19,
          20,
          21,
          22,
          23,
          24,
          25,
          26,
          27,
          28,
          29,
          30,
          31,
          32,
          33,
          34,
          35,
          36,
          37,
          38,
          39,
          40,
          41,
          42,
          43,
          44,
          45,
          46,
          47,
          48,
          49,
          50,
          51,
          52,
          53,
          54,
          55,
          56,
          57,
          58,
          59,
          60,
          61,
          62,
          63,
          64,
          65,
          66,
          67,
          68,
          69,
          70,
          71
         ],
         "xaxis": "x2",
         "y": [
          3903.418474165465,
          2758.816006461275,
          1883.3951757163395,
          1033.287035544985,
          3154.899097124345,
          1260.22525054527,
          1991.1050222303193,
          1619.784261862604,
          2568.6411641843893,
          514.95238659015,
          106.85174118322,
          4287.897151313115,
          11235.25372320853,
          10241.24000347943,
          5657.411344507016,
          2653.2103626681987,
          4185.389433781212,
          3795.440088146765,
          3635.59887638077,
          4098.96987799403,
          3146.68769471428,
          4407.453525502969,
          5510.893548774308,
          4150.456522373825,
          0,
          5137.436340990485,
          10071.357859989075,
          11271.689518357594,
          9590.3605592764,
          5172.09625025778,
          6457.215453219695,
          6089.655411760735,
          7201.87061279198,
          5198.28125193464,
          7780.458942878913,
          1605.202976140995,
          848.014057679415,
          594.46938013905,
          1476.8102411058994,
          1076.20147842264,
          799.3889540981994,
          728.241585253865,
          389.8405522987624,
          345.8511828724433,
          318.077089898965,
          101.01082024625,
          669.40308184241,
          292.511302550875,
          325.258361848091,
          277.210457174819,
          190.38477,
          504.6469062999326,
          1171.898005510225,
          82.04715285075,
          1026.28955246926,
          583.630879023335,
          409.853576336945,
          494.8454260482321,
          243.8922824657481,
          144.189565818317,
          64.7625496729798,
          146.96825487564,
          198.214502553465,
          96.938199264345,
          45.3430791656295,
          74.10138392115,
          0.21114629301,
          151.761976623525,
          470.103513885525,
          219.258602583309,
          446.3718821755298,
          10.907279334475
         ],
         "yaxis": "y2"
        },
        {
         "marker": {
          "color": "red",
          "size": 10,
          "symbol": "triangle-up"
         },
         "mode": "markers",
         "name": "Buy Signal",
         "type": "scatter",
         "x": [
          12,
          13,
          26
         ],
         "xaxis": "x",
         "y": [
          0.0000284673736638025,
          0.000028982782936152,
          0.00006655998079493
         ],
         "yaxis": "y"
        }
       ],
       "layout": {
        "annotations": [
         {
          "font": {
           "size": 16
          },
          "showarrow": false,
          "text": "OHLC",
          "x": 0.5,
          "xanchor": "center",
          "xref": "paper",
          "y": 1,
          "yanchor": "bottom",
          "yref": "paper"
         },
         {
          "font": {
           "size": 16
          },
          "showarrow": false,
          "text": "Volume",
          "x": 0.5,
          "xanchor": "center",
          "xref": "paper",
          "y": 0.21555555555555558,
          "yanchor": "bottom",
          "yref": "paper"
         }
        ],
        "template": {
         "data": {
          "bar": [
           {
            "error_x": {
             "color": "#2a3f5f"
            },
            "error_y": {
             "color": "#2a3f5f"
            },
            "marker": {
             "line": {
              "color": "#E5ECF6",
              "width": 0.5
             },
             "pattern": {
              "fillmode": "overlay",
              "size": 10,
              "solidity": 0.2
             }
            },
            "type": "bar"
           }
          ],
          "barpolar": [
           {
            "marker": {
             "line": {
              "color": "#E5ECF6",
              "width": 0.5
             },
             "pattern": {
              "fillmode": "overlay",
              "size": 10,
              "solidity": 0.2
             }
            },
            "type": "barpolar"
           }
          ],
          "carpet": [
           {
            "aaxis": {
             "endlinecolor": "#2a3f5f",
             "gridcolor": "white",
             "linecolor": "white",
             "minorgridcolor": "white",
             "startlinecolor": "#2a3f5f"
            },
            "baxis": {
             "endlinecolor": "#2a3f5f",
             "gridcolor": "white",
             "linecolor": "white",
             "minorgridcolor": "white",
             "startlinecolor": "#2a3f5f"
            },
            "type": "carpet"
           }
          ],
          "choropleth": [
           {
            "colorbar": {
             "outlinewidth": 0,
             "ticks": ""
            },
            "type": "choropleth"
           }
          ],
          "contour": [
           {
            "colorbar": {
             "outlinewidth": 0,
             "ticks": ""
            },
            "colorscale": [
             [
              0,
              "#0d0887"
             ],
             [
              0.1111111111111111,
              "#46039f"
             ],
             [
              0.2222222222222222,
              "#7201a8"
             ],
             [
              0.3333333333333333,
              "#9c179e"
             ],
             [
              0.4444444444444444,
              "#bd3786"
             ],
             [
              0.5555555555555556,
              "#d8576b"
             ],
             [
              0.6666666666666666,
              "#ed7953"
             ],
             [
              0.7777777777777778,
              "#fb9f3a"
             ],
             [
              0.8888888888888888,
              "#fdca26"
             ],
             [
              1,
              "#f0f921"
             ]
            ],
            "type": "contour"
           }
          ],
          "contourcarpet": [
           {
            "colorbar": {
             "outlinewidth": 0,
             "ticks": ""
            },
            "type": "contourcarpet"
           }
          ],
          "heatmap": [
           {
            "colorbar": {
             "outlinewidth": 0,
             "ticks": ""
            },
            "colorscale": [
             [
              0,
              "#0d0887"
             ],
             [
              0.1111111111111111,
              "#46039f"
             ],
             [
              0.2222222222222222,
              "#7201a8"
             ],
             [
              0.3333333333333333,
              "#9c179e"
             ],
             [
              0.4444444444444444,
              "#bd3786"
             ],
             [
              0.5555555555555556,
              "#d8576b"
             ],
             [
              0.6666666666666666,
              "#ed7953"
             ],
             [
              0.7777777777777778,
              "#fb9f3a"
             ],
             [
              0.8888888888888888,
              "#fdca26"
             ],
             [
              1,
              "#f0f921"
             ]
            ],
            "type": "heatmap"
           }
          ],
          "heatmapgl": [
           {
            "colorbar": {
             "outlinewidth": 0,
             "ticks": ""
            },
            "colorscale": [
             [
              0,
              "#0d0887"
             ],
             [
              0.1111111111111111,
              "#46039f"
             ],
             [
              0.2222222222222222,
              "#7201a8"
             ],
             [
              0.3333333333333333,
              "#9c179e"
             ],
             [
              0.4444444444444444,
              "#bd3786"
             ],
             [
              0.5555555555555556,
              "#d8576b"
             ],
             [
              0.6666666666666666,
              "#ed7953"
             ],
             [
              0.7777777777777778,
              "#fb9f3a"
             ],
             [
              0.8888888888888888,
              "#fdca26"
             ],
             [
              1,
              "#f0f921"
             ]
            ],
            "type": "heatmapgl"
           }
          ],
          "histogram": [
           {
            "marker": {
             "pattern": {
              "fillmode": "overlay",
              "size": 10,
              "solidity": 0.2
             }
            },
            "type": "histogram"
           }
          ],
          "histogram2d": [
           {
            "colorbar": {
             "outlinewidth": 0,
             "ticks": ""
            },
            "colorscale": [
             [
              0,
              "#0d0887"
             ],
             [
              0.1111111111111111,
              "#46039f"
             ],
             [
              0.2222222222222222,
              "#7201a8"
             ],
             [
              0.3333333333333333,
              "#9c179e"
             ],
             [
              0.4444444444444444,
              "#bd3786"
             ],
             [
              0.5555555555555556,
              "#d8576b"
             ],
             [
              0.6666666666666666,
              "#ed7953"
             ],
             [
              0.7777777777777778,
              "#fb9f3a"
             ],
             [
              0.8888888888888888,
              "#fdca26"
             ],
             [
              1,
              "#f0f921"
             ]
            ],
            "type": "histogram2d"
           }
          ],
          "histogram2dcontour": [
           {
            "colorbar": {
             "outlinewidth": 0,
             "ticks": ""
            },
            "colorscale": [
             [
              0,
              "#0d0887"
             ],
             [
              0.1111111111111111,
              "#46039f"
             ],
             [
              0.2222222222222222,
              "#7201a8"
             ],
             [
              0.3333333333333333,
              "#9c179e"
             ],
             [
              0.4444444444444444,
              "#bd3786"
             ],
             [
              0.5555555555555556,
              "#d8576b"
             ],
             [
              0.6666666666666666,
              "#ed7953"
             ],
             [
              0.7777777777777778,
              "#fb9f3a"
             ],
             [
              0.8888888888888888,
              "#fdca26"
             ],
             [
              1,
              "#f0f921"
             ]
            ],
            "type": "histogram2dcontour"
           }
          ],
          "mesh3d": [
           {
            "colorbar": {
             "outlinewidth": 0,
             "ticks": ""
            },
            "type": "mesh3d"
           }
          ],
          "parcoords": [
           {
            "line": {
             "colorbar": {
              "outlinewidth": 0,
              "ticks": ""
             }
            },
            "type": "parcoords"
           }
          ],
          "pie": [
           {
            "automargin": true,
            "type": "pie"
           }
          ],
          "scatter": [
           {
            "fillpattern": {
             "fillmode": "overlay",
             "size": 10,
             "solidity": 0.2
            },
            "type": "scatter"
           }
          ],
          "scatter3d": [
           {
            "line": {
             "colorbar": {
              "outlinewidth": 0,
              "ticks": ""
             }
            },
            "marker": {
             "colorbar": {
              "outlinewidth": 0,
              "ticks": ""
             }
            },
            "type": "scatter3d"
           }
          ],
          "scattercarpet": [
           {
            "marker": {
             "colorbar": {
              "outlinewidth": 0,
              "ticks": ""
             }
            },
            "type": "scattercarpet"
           }
          ],
          "scattergeo": [
           {
            "marker": {
             "colorbar": {
              "outlinewidth": 0,
              "ticks": ""
             }
            },
            "type": "scattergeo"
           }
          ],
          "scattergl": [
           {
            "marker": {
             "colorbar": {
              "outlinewidth": 0,
              "ticks": ""
             }
            },
            "type": "scattergl"
           }
          ],
          "scattermapbox": [
           {
            "marker": {
             "colorbar": {
              "outlinewidth": 0,
              "ticks": ""
             }
            },
            "type": "scattermapbox"
           }
          ],
          "scatterpolar": [
           {
            "marker": {
             "colorbar": {
              "outlinewidth": 0,
              "ticks": ""
             }
            },
            "type": "scatterpolar"
           }
          ],
          "scatterpolargl": [
           {
            "marker": {
             "colorbar": {
              "outlinewidth": 0,
              "ticks": ""
             }
            },
            "type": "scatterpolargl"
           }
          ],
          "scatterternary": [
           {
            "marker": {
             "colorbar": {
              "outlinewidth": 0,
              "ticks": ""
             }
            },
            "type": "scatterternary"
           }
          ],
          "surface": [
           {
            "colorbar": {
             "outlinewidth": 0,
             "ticks": ""
            },
            "colorscale": [
             [
              0,
              "#0d0887"
             ],
             [
              0.1111111111111111,
              "#46039f"
             ],
             [
              0.2222222222222222,
              "#7201a8"
             ],
             [
              0.3333333333333333,
              "#9c179e"
             ],
             [
              0.4444444444444444,
              "#bd3786"
             ],
             [
              0.5555555555555556,
              "#d8576b"
             ],
             [
              0.6666666666666666,
              "#ed7953"
             ],
             [
              0.7777777777777778,
              "#fb9f3a"
             ],
             [
              0.8888888888888888,
              "#fdca26"
             ],
             [
              1,
              "#f0f921"
             ]
            ],
            "type": "surface"
           }
          ],
          "table": [
           {
            "cells": {
             "fill": {
              "color": "#EBF0F8"
             },
             "line": {
              "color": "white"
             }
            },
            "header": {
             "fill": {
              "color": "#C8D4E3"
             },
             "line": {
              "color": "white"
             }
            },
            "type": "table"
           }
          ]
         },
         "layout": {
          "annotationdefaults": {
           "arrowcolor": "#2a3f5f",
           "arrowhead": 0,
           "arrowwidth": 1
          },
          "autotypenumbers": "strict",
          "coloraxis": {
           "colorbar": {
            "outlinewidth": 0,
            "ticks": ""
           }
          },
          "colorscale": {
           "diverging": [
            [
             0,
             "#8e0152"
            ],
            [
             0.1,
             "#c51b7d"
            ],
            [
             0.2,
             "#de77ae"
            ],
            [
             0.3,
             "#f1b6da"
            ],
            [
             0.4,
             "#fde0ef"
            ],
            [
             0.5,
             "#f7f7f7"
            ],
            [
             0.6,
             "#e6f5d0"
            ],
            [
             0.7,
             "#b8e186"
            ],
            [
             0.8,
             "#7fbc41"
            ],
            [
             0.9,
             "#4d9221"
            ],
            [
             1,
             "#276419"
            ]
           ],
           "sequential": [
            [
             0,
             "#0d0887"
            ],
            [
             0.1111111111111111,
             "#46039f"
            ],
            [
             0.2222222222222222,
             "#7201a8"
            ],
            [
             0.3333333333333333,
             "#9c179e"
            ],
            [
             0.4444444444444444,
             "#bd3786"
            ],
            [
             0.5555555555555556,
             "#d8576b"
            ],
            [
             0.6666666666666666,
             "#ed7953"
            ],
            [
             0.7777777777777778,
             "#fb9f3a"
            ],
            [
             0.8888888888888888,
             "#fdca26"
            ],
            [
             1,
             "#f0f921"
            ]
           ],
           "sequentialminus": [
            [
             0,
             "#0d0887"
            ],
            [
             0.1111111111111111,
             "#46039f"
            ],
            [
             0.2222222222222222,
             "#7201a8"
            ],
            [
             0.3333333333333333,
             "#9c179e"
            ],
            [
             0.4444444444444444,
             "#bd3786"
            ],
            [
             0.5555555555555556,
             "#d8576b"
            ],
            [
             0.6666666666666666,
             "#ed7953"
            ],
            [
             0.7777777777777778,
             "#fb9f3a"
            ],
            [
             0.8888888888888888,
             "#fdca26"
            ],
            [
             1,
             "#f0f921"
            ]
           ]
          },
          "colorway": [
           "#636efa",
           "#EF553B",
           "#00cc96",
           "#ab63fa",
           "#FFA15A",
           "#19d3f3",
           "#FF6692",
           "#B6E880",
           "#FF97FF",
           "#FECB52"
          ],
          "font": {
           "color": "#2a3f5f"
          },
          "geo": {
           "bgcolor": "white",
           "lakecolor": "white",
           "landcolor": "#E5ECF6",
           "showlakes": true,
           "showland": true,
           "subunitcolor": "white"
          },
          "hoverlabel": {
           "align": "left"
          },
          "hovermode": "closest",
          "mapbox": {
           "style": "light"
          },
          "paper_bgcolor": "white",
          "plot_bgcolor": "#E5ECF6",
          "polar": {
           "angularaxis": {
            "gridcolor": "white",
            "linecolor": "white",
            "ticks": ""
           },
           "bgcolor": "#E5ECF6",
           "radialaxis": {
            "gridcolor": "white",
            "linecolor": "white",
            "ticks": ""
           }
          },
          "scene": {
           "xaxis": {
            "backgroundcolor": "#E5ECF6",
            "gridcolor": "white",
            "gridwidth": 2,
            "linecolor": "white",
            "showbackground": true,
            "ticks": "",
            "zerolinecolor": "white"
           },
           "yaxis": {
            "backgroundcolor": "#E5ECF6",
            "gridcolor": "white",
            "gridwidth": 2,
            "linecolor": "white",
            "showbackground": true,
            "ticks": "",
            "zerolinecolor": "white"
           },
           "zaxis": {
            "backgroundcolor": "#E5ECF6",
            "gridcolor": "white",
            "gridwidth": 2,
            "linecolor": "white",
            "showbackground": true,
            "ticks": "",
            "zerolinecolor": "white"
           }
          },
          "shapedefaults": {
           "line": {
            "color": "#2a3f5f"
           }
          },
          "ternary": {
           "aaxis": {
            "gridcolor": "white",
            "linecolor": "white",
            "ticks": ""
           },
           "baxis": {
            "gridcolor": "white",
            "linecolor": "white",
            "ticks": ""
           },
           "bgcolor": "#E5ECF6",
           "caxis": {
            "gridcolor": "white",
            "linecolor": "white",
            "ticks": ""
           }
          },
          "title": {
           "x": 0.05
          },
          "xaxis": {
           "automargin": true,
           "gridcolor": "white",
           "linecolor": "white",
           "ticks": "",
           "title": {
            "standoff": 15
           },
           "zerolinecolor": "white",
           "zerolinewidth": 2
          },
          "yaxis": {
           "automargin": true,
           "gridcolor": "white",
           "linecolor": "white",
           "ticks": "",
           "title": {
            "standoff": 15
           },
           "zerolinecolor": "white",
           "zerolinewidth": 2
          }
         }
        },
        "xaxis": {
         "anchor": "y",
         "domain": [
          0,
          1
         ],
         "matches": "x2",
         "rangeslider": {
          "visible": false
         },
         "showticklabels": false
        },
        "xaxis2": {
         "anchor": "y2",
         "domain": [
          0,
          1
         ]
        },
        "yaxis": {
         "anchor": "x",
         "domain": [
          0.24555555555555558,
          1
         ]
        },
        "yaxis2": {
         "anchor": "x2",
         "domain": [
          0,
          0.21555555555555558
         ]
        }
       }
      }
     },
     "metadata": {},
     "output_type": "display_data"
    }
   ],
   "source": [
    "from watcher import last_50_candles, Timeframe\n",
    "\n",
    "watcher = Watcher(Chain.SOL)\n",
    "timeframe = Timeframe.ONE_MINUTE\n",
    "start, end = last_50_candles(timeframe)\n",
    "candles_response = watcher.get_candles(\n",
    "    token_address=\"GmaPKZisgQtH1ZXx5Xx6mQD6hKHZZUKdwR9SrBdrpump\",\n",
    "    start=0,\n",
    "    end=end,\n",
    "    timeframe=timeframe.value\n",
    ")\n",
    "df = pd.DataFrame([vars(candle) for candle in candles_response.data])\n",
    "fig = make_fig(df)\n",
    "sma_period = 10\n",
    "volume_spike_threshold = 1.5\n",
    "\n",
    "# Calculate SMA of Volume\n",
    "df['sma_volume'] = df['volume'].rolling(window=sma_period).mean()\n",
    "\n",
    "# Detect Volume Spikes\n",
    "df['volume_spike'] = df['volume'] > (volume_spike_threshold * df['sma_volume'])\n",
    "\n",
    "# Detect Upward Price Movement\n",
    "df['price_upward'] = df['close'] > df['close'].shift(1)\n",
    "\n",
    "# Generate Buy Signals\n",
    "df['buy_signal'] = df['volume_spike'] & df['price_upward']\n",
    "\n",
    "# Filter buy signals\n",
    "buy_signals = df[df['buy_signal']]\n",
    "\n",
    "fig.add_trace(\n",
    "    go.Scatter(\n",
    "        x=df[df['buy_signal']].index,\n",
    "        y=df[df['buy_signal']]['close'],\n",
    "        mode='markers',\n",
    "        marker=dict(\n",
    "            color='red',\n",
    "            size=10,\n",
    "            symbol='triangle-up'\n",
    "        ),\n",
    "        name='Buy Signal'\n",
    "    ),\n",
    "    row=1,\n",
    "    col=1,\n",
    ")\n",
    "\n",
    "print(len(buy_signals))\n",
    "fig.show()"
   ]
  }
 ],
 "metadata": {
  "kernelspec": {
   "display_name": "Python 3",
   "language": "python",
   "name": "python3"
  },
  "language_info": {
   "codemirror_mode": {
    "name": "ipython",
    "version": 3
   },
   "file_extension": ".py",
   "mimetype": "text/x-python",
   "name": "python",
   "nbconvert_exporter": "python",
   "pygments_lexer": "ipython3",
   "version": "3.12.1"
  }
 },
 "nbformat": 4,
 "nbformat_minor": 5
}
